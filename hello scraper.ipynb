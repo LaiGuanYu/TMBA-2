{
 "cells": [
  {
   "cell_type": "code",
   "execution_count": 34,
   "metadata": {},
   "outputs": [
    {
     "name": "stderr",
     "output_type": "stream",
     "text": [
      "<ipython-input-34-c8164da6409d>:5: DeprecationWarning: executable_path has been deprecated, please pass in a Service object\n",
      "  driver = webdriver.Chrome('/Users/laiguanyu/Documents/爬蟲/chromedriver')\n",
      "<ipython-input-34-c8164da6409d>:8: DeprecationWarning: find_element_by_* commands are deprecated. Please use find_element() instead\n",
      "  username = driver.find_element_by_name('account')\n",
      "<ipython-input-34-c8164da6409d>:9: DeprecationWarning: find_element_by_* commands are deprecated. Please use find_element() instead\n",
      "  pwd = driver.find_element_by_name('password')\n",
      "<ipython-input-34-c8164da6409d>:13: DeprecationWarning: find_element_by_* commands are deprecated. Please use find_element() instead\n",
      "  driver.find_element_by_xpath('/html/body/div[1]/div/section[2]/div/form/input').click()\n",
      "<ipython-input-34-c8164da6409d>:16: DeprecationWarning: find_element_by_* commands are deprecated. Please use find_element() instead\n",
      "  driver.find_element_by_xpath('//*[@id=\"app\"]/div/div[1]/div[1]/div/ul/div[3]/a').click()\n",
      "<ipython-input-34-c8164da6409d>:19: DeprecationWarning: find_element_by_* commands are deprecated. Please use find_element() instead\n",
      "  s = driver.find_element_by_xpath('//*[@id=\"app\"]/div/div[2]/section/div/div/div[2]').text\n"
     ]
    },
    {
     "name": "stdout",
     "output_type": "stream",
     "text": [
      "06:00\n",
      "07:00\n",
      "08:00\n",
      "09:00\n",
      "10:10\n",
      "11:10\n",
      "12:20\n",
      "13:20\n",
      "14:20\n",
      "15:30\n",
      "16:30\n",
      "17:30\n",
      "18:30\n",
      "19:30\n",
      "20:30\n",
      "21:30\n",
      "金融機構與市場\n",
      "M 謝文良\n",
      "上課時段：234\n",
      "期貨與選擇權\n",
      "M 李漢星\n",
      "上課時段：567\n",
      "財務管理\n",
      "M 黃宜侯\n",
      "上課時段：234\n",
      "財務數學\n",
      "M 戴天時\n",
      "上課時段：234\n",
      "機器學習與金融科技\n",
      "M102[KF] 鄧惠文、盧鴻興\n",
      "上課時段：234\n",
      "財金理論與實務\n",
      "M101[KF] 戴天時\n",
      "上課時段：56\n"
     ]
    }
   ],
   "source": [
    "from selenium import webdriver\n",
    "from time import sleep\n",
    "from selenium.webdriver.common.action_chains import ActionChains\n",
    "from selenium.webdriver.support.ui import Select\n",
    "driver = webdriver.Chrome('/Users/laiguanyu/Documents/爬蟲/chromedriver')\n",
    "driver.get('https://portal.nycu.edu.tw/#/login?redirect=%2F')\n",
    "\n",
    "username = driver.find_element_by_name('account')\n",
    "pwd = driver.find_element_by_name('password')\n",
    "username.send_keys('310707008')\n",
    "pwd.send_keys('Zz5355155')\n",
    "sleep(2)\n",
    "driver.find_element_by_xpath('/html/body/div[1]/div/section[2]/div/form/input').click()\n",
    "sleep(3)\n",
    "\n",
    "driver.find_element_by_xpath('//*[@id=\"app\"]/div/div[1]/div[1]/div/ul/div[3]/a').click()\n",
    "sleep(2)\n",
    "\n",
    "s = driver.find_element_by_xpath('//*[@id=\"app\"]/div/div[2]/section/div/div/div[2]').text\n",
    "sleep(1)\n",
    "print(s)"
   ]
  },
  {
   "cell_type": "code",
   "execution_count": 17,
   "metadata": {},
   "outputs": [],
   "source": [
    "import pandas as pd"
   ]
  },
  {
   "cell_type": "code",
   "execution_count": 43,
   "metadata": {
    "collapsed": true,
    "jupyter": {
     "outputs_hidden": true
    },
    "tags": []
   },
   "outputs": [
    {
     "name": "stderr",
     "output_type": "stream",
     "text": [
      "<ipython-input-43-edb8514b7a18>:1: DeprecationWarning: executable_path has been deprecated, please pass in a Service object\n",
      "  driver = webdriver.Chrome('/Users/laiguanyu/Documents/爬蟲/chromedriver')\n",
      "<ipython-input-43-edb8514b7a18>:4: DeprecationWarning: find_element_by_* commands are deprecated. Please use find_element() instead\n",
      "  username = driver.find_element_by_name('account')\n",
      "<ipython-input-43-edb8514b7a18>:5: DeprecationWarning: find_element_by_* commands are deprecated. Please use find_element() instead\n",
      "  pwd = driver.find_element_by_name('password')\n",
      "<ipython-input-43-edb8514b7a18>:9: DeprecationWarning: find_element_by_* commands are deprecated. Please use find_element() instead\n",
      "  driver.find_element_by_xpath('/html/body/div[1]/div/section[2]/div/form/input').click()\n",
      "<ipython-input-43-edb8514b7a18>:12: DeprecationWarning: find_element_by_* commands are deprecated. Please use find_element() instead\n",
      "  driver.find_element_by_xpath('//*[@id=\"app\"]/div/div[1]/div[1]/div/ul/div[3]/a').click()\n",
      "<ipython-input-43-edb8514b7a18>:15: DeprecationWarning: find_element_by_* commands are deprecated. Please use find_element() instead\n",
      "  s = driver.find_element_by_xpath('//*[@id=\"app\"]/div/div[2]/section/div/div/div[2]').text\n"
     ]
    },
    {
     "name": "stdout",
     "output_type": "stream",
     "text": [
      "0\n",
      "1\n",
      "1\n",
      "1\n",
      "1\n",
      "1\n",
      "1\n",
      "1\n",
      "1\n",
      "1\n",
      "1\n",
      "1\n",
      "1\n",
      "1\n",
      "1\n",
      "1\n"
     ]
    },
    {
     "name": "stderr",
     "output_type": "stream",
     "text": [
      "<ipython-input-43-edb8514b7a18>:20: DeprecationWarning: find_elements_by_* commands are deprecated. Please use find_elements() instead\n",
      "  rows = len(driver.find_elements_by_xpath(\"//*[@id='app']/div/div[2]/section/div/div/div[2]/div[\"+str(i)+\"]\"))\n"
     ]
    }
   ],
   "source": [
    "driver = webdriver.Chrome('/Users/laiguanyu/Documents/爬蟲/chromedriver')\n",
    "driver.get('https://portal.nycu.edu.tw/#/login?redirect=%2F')\n",
    "\n",
    "username = driver.find_element_by_name('account')\n",
    "pwd = driver.find_element_by_name('password')\n",
    "username.send_keys('310707008')\n",
    "pwd.send_keys('Zz5355155')\n",
    "sleep(2)\n",
    "driver.find_element_by_xpath('/html/body/div[1]/div/section[2]/div/form/input').click()\n",
    "sleep(3)\n",
    "\n",
    "driver.find_element_by_xpath('//*[@id=\"app\"]/div/div[1]/div[1]/div/ul/div[3]/a').click()\n",
    "sleep(2)\n",
    "\n",
    "s = driver.find_element_by_xpath('//*[@id=\"app\"]/div/div[2]/section/div/div/div[2]').text\n",
    "sleep(1)\n",
    "\n",
    " df = pd.DataFrame()\n",
    "     for i in range(17):\n",
    "        s = pd.Series()\n",
    "        for c in range(9):\n",
    "            s[c] = driver.find_elements_by_xpath(f\"/html/body/div[2]/div/form[3]/div[2]/div[1]/div/div/div/div[2]/div[4]/section[1]/div[2]/div/div/table/tbody/tr[{i+1}]/td[{c+1}]\")\n",
    "            df = df.append(s, ignore_index=True)"
   ]
  },
  {
   "cell_type": "code",
   "execution_count": null,
   "metadata": {},
   "outputs": [],
   "source": [
    "//*[@id=\"app\"]/div/div[2]/section/div/div/div[2]/div[1]\n",
    "//*[@id=\"app\"]/div/div[2]/section/div/div/div[2]/div[5]\n",
    "\n",
    "//*[@id=\"app\"]/div/div[2]/section/div/div/div[1]/div[2]\n",
    "//*[@id=\"app\"]/div/div[2]/section/div/div/div[1]/div[4]\n",
    "//*[@id=\"app\"]/div/div[2]/section/div/div/div[1]/div[8]\n",
    "\n"
   ]
  }
 ],
 "metadata": {
  "kernelspec": {
   "display_name": "Python 3",
   "language": "python",
   "name": "python3"
  },
  "language_info": {
   "codemirror_mode": {
    "name": "ipython",
    "version": 3
   },
   "file_extension": ".py",
   "mimetype": "text/x-python",
   "name": "python",
   "nbconvert_exporter": "python",
   "pygments_lexer": "ipython3",
   "version": "3.8.8"
  }
 },
 "nbformat": 4,
 "nbformat_minor": 4
}
